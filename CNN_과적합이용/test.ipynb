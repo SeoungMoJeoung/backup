{
 "cells": [
  {
   "cell_type": "code",
   "execution_count": 2,
   "metadata": {
    "scrolled": false
   },
   "outputs": [],
   "source": [
    "import numpy as np\n",
    "from ast import literal_eval\n",
    "import pandas as pd\n",
    "import tensorflow as tf\n",
    "\n",
    "f = open(\"C:/Users/jsm97/Desktop/data/data.out\")\n",
    "X = []\n",
    "while True:\n",
    "    line = f.readline()\n",
    "    if not line:\n",
    "        break\n",
    "    temp = line.split(\",\")\n",
    "    if len(temp) == 5:\n",
    "        X.append(temp)\n",
    "\n",
    "pdData=pd.DataFrame(X)\n",
    "\n",
    "pdData1 = pdData.drop([2,4], axis=1)\n",
    "\n",
    "pdData1[0] = pd.to_numeric(pdData1[0])\n",
    "pdData1[1] = pd.to_numeric(pdData1[1], errors='coerce')\n",
    "pdData1[3] = pd.to_numeric(pdData1[3], errors='coerce')\n",
    "\n",
    "pdData1.dropna(inplace=True)\n",
    "\n",
    "y = pdData1.drop([1,3],axis=1)\n",
    "y = y.to_numpy()\n",
    "y = y.reshape(9975,)\n",
    "\n",
    "x = pdData1.drop([0],axis=1)\n",
    "x = x.to_numpy()\n",
    "x = x.reshape(9975,1,2)\n",
    "\n"
   ]
  },
  {
   "cell_type": "code",
   "execution_count": 4,
   "metadata": {},
   "outputs": [
    {
     "name": "stdout",
     "output_type": "stream",
     "text": [
      "Model: \"sequential_2\"\n",
      "_________________________________________________________________\n",
      "Layer (type)                 Output Shape              Param #   \n",
      "=================================================================\n",
      "conv1d_12 (Conv1D)           (None, 1, 32)             96        \n",
      "_________________________________________________________________\n",
      "conv1d_13 (Conv1D)           (None, 1, 64)             2112      \n",
      "_________________________________________________________________\n",
      "conv1d_14 (Conv1D)           (None, 1, 64)             4160      \n",
      "_________________________________________________________________\n",
      "conv1d_15 (Conv1D)           (None, 1, 128)            8320      \n",
      "_________________________________________________________________\n",
      "conv1d_16 (Conv1D)           (None, 1, 256)            33024     \n",
      "_________________________________________________________________\n",
      "conv1d_17 (Conv1D)           (None, 1, 512)            131584    \n",
      "_________________________________________________________________\n",
      "flatten_2 (Flatten)          (None, 512)               0         \n",
      "_________________________________________________________________\n",
      "dense_4 (Dense)              (None, 256)               131328    \n",
      "_________________________________________________________________\n",
      "dense_5 (Dense)              (None, 10)                2570      \n",
      "=================================================================\n",
      "Total params: 313,194\n",
      "Trainable params: 313,194\n",
      "Non-trainable params: 0\n",
      "_________________________________________________________________\n",
      "Epoch 1/20\n",
      "312/312 [==============================] - 1s 2ms/step - loss: 190.0283 - accuracy: 0.1249\n",
      "Epoch 2/20\n",
      "312/312 [==============================] - 1s 2ms/step - loss: 6.9434 - accuracy: 0.1335\n",
      "Epoch 3/20\n",
      "312/312 [==============================] - 1s 2ms/step - loss: 2.9309 - accuracy: 0.1248\n",
      "Epoch 4/20\n",
      "312/312 [==============================] - 1s 2ms/step - loss: 2.4888 - accuracy: 0.1359\n",
      "Epoch 5/20\n",
      "312/312 [==============================] - 1s 2ms/step - loss: 3.1812 - accuracy: 0.1275\n",
      "Epoch 6/20\n",
      "312/312 [==============================] - 1s 2ms/step - loss: 2.3958 - accuracy: 0.1396\n",
      "Epoch 7/20\n",
      "312/312 [==============================] - 1s 2ms/step - loss: 2.1912 - accuracy: 0.1457\n",
      "Epoch 8/20\n",
      "312/312 [==============================] - 1s 2ms/step - loss: 2.1799 - accuracy: 0.1436\n",
      "Epoch 9/20\n",
      "312/312 [==============================] - 1s 2ms/step - loss: 2.1656 - accuracy: 0.1458\n",
      "Epoch 10/20\n",
      "312/312 [==============================] - 1s 2ms/step - loss: 2.0906 - accuracy: 0.1622\n",
      "Epoch 11/20\n",
      "312/312 [==============================] - 1s 2ms/step - loss: 2.0608 - accuracy: 0.1693\n",
      "Epoch 12/20\n",
      "312/312 [==============================] - 0s 2ms/step - loss: 2.0605 - accuracy: 0.1697\n",
      "Epoch 13/20\n",
      "312/312 [==============================] - 1s 2ms/step - loss: 2.0597 - accuracy: 0.1694\n",
      "Epoch 14/20\n",
      "312/312 [==============================] - 1s 2ms/step - loss: 2.0596 - accuracy: 0.1694\n",
      "Epoch 15/20\n",
      "312/312 [==============================] - 1s 2ms/step - loss: 11.9590 - accuracy: 0.1595\n",
      "Epoch 16/20\n",
      "312/312 [==============================] - 1s 2ms/step - loss: 2.0620 - accuracy: 0.1687\n",
      "Epoch 17/20\n",
      "312/312 [==============================] - 1s 2ms/step - loss: 2.0617 - accuracy: 0.1691\n",
      "Epoch 18/20\n",
      "312/312 [==============================] - 1s 2ms/step - loss: 2.0616 - accuracy: 0.1694\n",
      "Epoch 19/20\n",
      "312/312 [==============================] - 1s 2ms/step - loss: 2.0615 - accuracy: 0.1691\n",
      "Epoch 20/20\n",
      "312/312 [==============================] - 1s 2ms/step - loss: 2.1920 - accuracy: 0.1677\n"
     ]
    },
    {
     "data": {
      "text/plain": [
       "<tensorflow.python.keras.callbacks.History at 0x225b97b7388>"
      ]
     },
     "execution_count": 4,
     "metadata": {},
     "output_type": "execute_result"
    }
   ],
   "source": [
    "from tensorflow.keras import layers, models\n",
    "\n",
    "model = models.Sequential()\n",
    "model.add(layers.Conv1D(32, 1, activation='relu',input_shape=(1,2)))\n",
    "model.add(layers.Conv1D(64, 1, activation='relu'))\n",
    "model.add(layers.Conv1D(64, 1, activation='relu'))\n",
    "model.add(layers.Conv1D(128, 1, activation='relu'))\n",
    "model.add(layers.Conv1D(256, 1, activation='relu'))\n",
    "model.add(layers.Conv1D(512, 1, activation='relu'))\n",
    "\n",
    "model.add(layers.Flatten())\n",
    "model.add(layers.Dense(256, activation='relu'))\n",
    "model.add(layers.Dense(10, activation='softmax'))\n",
    " \n",
    "model.compile(optimizer='adam',loss='sparse_categorical_crossentropy',metrics=['accuracy'])\n",
    "\n",
    "model.summary()\n",
    "\n",
    "model.fit(x, y, epochs=20,batch_size=0)"
   ]
  },
  {
   "cell_type": "code",
   "execution_count": null,
   "metadata": {},
   "outputs": [],
   "source": []
  }
 ],
 "metadata": {
  "kernelspec": {
   "display_name": "Python 3",
   "language": "python",
   "name": "python3"
  },
  "language_info": {
   "codemirror_mode": {
    "name": "ipython",
    "version": 3
   },
   "file_extension": ".py",
   "mimetype": "text/x-python",
   "name": "python",
   "nbconvert_exporter": "python",
   "pygments_lexer": "ipython3",
   "version": "3.7.6"
  }
 },
 "nbformat": 4,
 "nbformat_minor": 4
}
